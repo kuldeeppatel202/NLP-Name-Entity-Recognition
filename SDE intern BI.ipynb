{
 "cells": [
  {
   "cell_type": "code",
   "execution_count": 157,
   "id": "c6040d11",
   "metadata": {},
   "outputs": [],
   "source": [
    "import wikipedia"
   ]
  },
  {
   "cell_type": "code",
   "execution_count": 159,
   "id": "c49f6055",
   "metadata": {},
   "outputs": [],
   "source": [
    "import wikipediaapi\n"
   ]
  },
  {
   "cell_type": "code",
   "execution_count": 160,
   "id": "ed985adb",
   "metadata": {},
   "outputs": [],
   "source": [
    "wiki_wiki = wikipediaapi.Wikipedia(language='en',\n",
    "        extract_format=wikipediaapi.ExtractFormat.WIKI)"
   ]
  },
  {
   "cell_type": "code",
   "execution_count": 161,
   "id": "5c70f57f",
   "metadata": {},
   "outputs": [
    {
     "name": "stdout",
     "output_type": "stream",
     "text": [
      "The 1968 United States presidential election was the 46th quadrennial presidential election, held on Tuesday, November 5, 1968. The Republican nominee, former vice president Richard Nixon, defeated the Democratic nominee, incumbent vice president Hubert Humphrey, and the American Independent Party  nominee, former Alabama Governor George Wallace.\n",
      "Incumbent president Lyndon B. Johnson had been the early front-runner for the Democratic Party's nomination, but he withdrew from the race after only narrowly winning the New Hampshire primary. Eugene McCarthy, Robert F. Kennedy, and Humphrey emerged as the three major candidates in the Democratic primaries, until Kennedy was assassinated. Humphrey won the nomination, sparking numerous anti-war protests. Nixon entered the Republican primaries as the front-runner, defeating liberal New York Governor Nelson Rockefeller, conservative Governor of California Ronald Reagan, and other candidates to win his party's nomination. Alabama's Democratic former governor, George Wallace, ran on the American Independent Party ticket, campaigning in favor of racial segregation.\n",
      "The election year was tumultuous; it was marked by the assassination of Martin Luther King, Jr., in early April and subsequent riots across the nation, the assassination of Robert F. Kennedy in early June, and widespread opposition to the Vietnam War across university campuses. Vice President Hubert Humphrey won the Democratic nomination, promising to continue Johnson's war on poverty and to support the civil rights movement. Such ideas hurt Humphrey's image in the South, leading to prominent conservative Democratic governor of Alabama, George Wallace, to mount a third-party challenge against his own party, to defend racial segregation. Wallace led a far-right American Independent Party attracting socially conservative voters throughout the South, and encroaching further support from white-working class voters in the Industrial Midwest who were attracted to Wallace's economic populism. In doing so, Wallace split the New Deal Coalition, winning over Southern Democrats, as well as former Goldwater supporters who preferred Wallace to Nixon. Nixon previously served as vice president under Dwight Eisenhower for eight years, and chose to take advantage of Democratic infighting by running a centrist platform attracting moderate voters as part of his \"silent majority\" who were alienated by the liberal agenda that was advocated by Hubert Humphrey, and the ultra-conservative viewpoints shared by George Wallace on social issues regarding race and civil rights. Nixon sought to restore law and order to the nation's cities and provide new leadership in the Vietnam War. During most of the campaign, Humphrey trailed significantly in polls taken by late August, but narrowed Nixon's lead after Wallace's candidacy collapsed and Johnson suspended bombing in the Vietnam War. Despite a last-minute effort to win the presidency, Humphrey was unable to surpass Nixon in the final days of the campaign, losing the Electoral College by 111 votes (not counting faithless electors), as well as the popular vote by a narrow margin.\n",
      "Richard Nixon was able to win the Electoral College, dominating several regions in the Western United States, Midwest, Upland South, and portions of the Northeast, while winning the popular vote by a relatively small 511,944 votes over Democratic nominee Hubert Humphrey. Democratic nominee Hubert Humphrey performed relatively well in the Northeast and Upper Midwest. Wallace finished last with five states in the Deep South; he is the most recent third-party candidate to win any states.This was the first presidential election after the passage of the Voting Rights Act of 1965, which had resulted in growing restoration and enforcement of the franchise for racial minorities, especially in the South, where most had been disenfranchised since the turn of the century. Minorities in other areas also regained their ability to vote.Richard Nixon's victory is most similar to the 1912 United States presidential election, where the Democratic nominee at the time, Woodrow Wilson, won in a reversal situation, with a Republican split between President Taft and Theodore Roosevelt. Despite an embarrassing defeat in the presidential level, Democrats were still able to maintain a solid majority in both the Senate and the House of Representatives in simultaneous congressional elections that took place, continuing Democratic dominance in both state and local levels during the Fifth Party System which had begun since Franklin D. Roosevelt's election win in 1932. Richard Nixon also became the first non-incumbent vice president to be elected president, a feat that was not repeated until 2020, when Joe Biden was elected president.As of 2022, this is the last time that all 50 states + DC would vote under a winner-take-all system. Maine would begin allocating its electoral votes by congressional district in 1972 and Nebraska would begin doing the same in 1992, and the most recent presidential election where the Incumbent President was eligible to run for the office of president again chose not to do so.\n",
      "\n",
      "Historical background\n",
      "In the election of 1964, incumbent Democratic United States President Lyndon B. Johnson won the largest popular vote landslide in U.S. presidential election history over Republican United States Senator Barry Goldwater. During the presidential term that followed, Johnson was able to achieve many political successes, including passage of his Great Society domestic programs (including \"War on Poverty\" legislation), landmark civil rights legislation, and the continued exploration of space. Despite these significant achievements, Johnson's popular support would be short-lived. Even as Johnson scored legislative victories, the country endured large-scale race riots in the streets of its larger cities, along with a generational revolt of young people and violent debates over foreign policy. The emergence of the hippie counter-culture, the rise of New Left activism, and the emergence of the Black Power movement exacerbated social and cultural clashes between classes, generations, and races. Adding to the national crisis, on April 4, 1968, civil rights leader Rev. Martin Luther King, Jr., was assassinated in Memphis, Tennessee, igniting riots of grief and anger across the country. In Washington, D. C., rioting took place within a few blocks of the White House, and the government stationed soldiers with machine guns on the Capitol steps to protect it.The Vietnam War was the primary reason for the precipitous decline of President Lyndon B. Johnson's popularity. He had greatly escalated U.S. commitment: By late 1967, over 500,000 American soldiers were fighting in Vietnam. Draftees made up 42 percent of the military in Vietnam, but suffered 58% of the casualties, as nearly 1000 Americans a month were killed, and many more were injured. But resistance to the war rose as success seemed ever out of reach. The national news media began to focus on the high costs and ambiguous results of escalation, despite Johnson's repeated efforts to downplay the seriousness of the situation.\n",
      "In early January 1968, Secretary of Defense Robert McNamara said the war would be winding down, claiming that the North Vietnamese were losing their will to fight. But, shortly thereafter, they launched the Tet Offensive, in which they and Communist Vietcong forces undertook simultaneous attacks on all government strongholds across South Vietnam. Though the uprising ended in a U.S. military victory, the scale of the Tet offensive led many Americans to question whether the war could be \"won\", or was worth the costs to the US. In addition, voters began to mistrust the government's assessment and reporting of the war effort. The Pentagon called for sending several hundred thousand more soldiers to Vietnam. Johnson's approval ratings fell below 35%. The Secret Service refused to let the president visit American colleges and universities, and prevented him from appearing at the 1968 Democratic National Convention in Chicago, Illinois, because it could not guarantee his safety.\n",
      "\n",
      "Republican Party nomination\n",
      "Other major candidates\n",
      "The following candidates were frequently interviewed by major broadcast networks, were listed in publicly published national polls, or ran a campaign that extended beyond their flying home delegation in the case of favorite sons.\n",
      "Nixon received 1,679,443 votes in the primaries.\n",
      "\n",
      "Primaries\n",
      "The front-runner for the Republican nomination was former Vice President Richard Nixon, who formally began campaigning in January 1968. Nixon had worked tirelessly behind the scenes and was instrumental in Republican gains in Congress and governorships in the 1966 midterm elections. Thus, the party machinery and many of the new congressmen and governors supported him. Still, there was wariness in the Republican ranks over Nixon, who had lost the 1960 election to John F. Kennedy and then lost the 1962 California gubernatorial election. Some hoped a more \"electable\" candidate would emerge. The story of the 1968 Republican primary campaign and nomination may be seen as one Nixon opponent after another entering the race and then dropping out. Nixon was the front runner throughout the contest because of his superior organization, and he easily defeated the rest of the field.\n",
      "Nixon's first challenger was Michigan Governor George W. Romney. A Gallup poll in mid-1967 showed Nixon with 39%, followed by Romney with 25%. After a fact-finding trip to Vietnam, Romney told Detroit talk show host Lou Gordon that he had been \"brainwashed\" by the military and the diplomatic corps into supporting the Vietnam War; the remark led to weeks of ridicule in the national news media. Turning against American involvement in Vietnam, Romney planned to run as the anti-war Republican version of Eugene McCarthy. But, following his \"brainwashing\" comment, Romney's support faded steadily; with polls showing him far behind Nixon, he withdrew from the race on February 28, 1968.United States Senator Charles Percy was considered another potential threat to Nixon, and had planned on waging an active campaign after securing a role as Illinois's favorite son. Later, however, Percy declined to have his name listed on the ballot for the Illinois presidential primary. He no longer sought the presidential nomination.Nixon won a resounding victory in the important New Hampshire primary on March 12, with 78% of the vote. Anti-war Republicans wrote in the name of New York Governor Nelson Rockefeller, the leader of the Republican Party's liberal wing, who received 11% of the vote and became Nixon's new challenger. Rockefeller had not originally intended to run, having discounted a campaign for the nomination in 1965, and planned to make United States Senator Jacob Javits, the favorite son, either in preparation of a presidential campaign or to secure him the second spot on the ticket. As Rockefeller warmed to the idea of entering the race, Javits shifted his effort to seeking a third term in the Senate. Nixon led Rockefeller in the polls throughout the primary campaign, and though Rockefeller defeated Nixon and Governor John Volpe from Massachusetts primary on April 30, he otherwise fared poorly in state primaries and conventions. He had declared too late to get his name placed on state primary ballots.\n",
      "By early spring, California Governor Ronald Reagan, the leader of the Republican Party's conservative wing, had become Nixon's chief rival. In the Nebraska primary on May 14, Nixon won with 70% of the vote to 21% for Reagan and 5% for Rockefeller. While this was a wide margin for Nixon, Reagan remained Nixon's leading challenger. Nixon won the next primary of importance, Oregon, on May 15 with 65% of the vote, and won all the following primaries except for California (June 4), where only Reagan appeared on the ballot. Reagan's victory in California gave him a plurality of the nationwide primary vote, but his poor showing in most other state primaries left him far behind Nixon in the delegate count.\n",
      "Total popular vote:\n",
      "\n",
      "Republican Convention\n",
      "As the 1968 Republican National Convention opened on August 5 in Miami Beach, Florida, the Associated Press estimated that Nixon had 656 delegate votes – 11 short of the number he needed to win the nomination. Reagan and Rockefeller were his only remaining opponents and they planned to unite their forces in a \"stop-Nixon\" movement.\n",
      "Because Goldwater had done well in the Deep South, delegates to the 1968 Republican National Convention included more Southern conservatives than in past conventions. There seemed potential for the conservative Reagan to be nominated if no victor emerged on the first ballot. Nixon narrowly secured the nomination on the first ballot, with the aid of South Carolina Senator Strom Thurmond, who had switched parties in 1964. He selected dark horse Maryland Governor Spiro Agnew as his running mate, a choice which Nixon believed would unite the party, appealing to both Northern moderates and Southerners disaffected with the Democrats. Nixon's first choice for running mate was reportedly his longtime friend and ally Robert Finch, who was the Lieutenant Governor of California at the time. Finch declined that offer, but accepted an appointment as the Secretary of Health, Education, and Welfare in Nixon's administration. With Vietnam a key issue, Nixon had strongly considered tapping his 1960 running mate, Henry Cabot Lodge Jr., a former U.S. senator, ambassador to the UN, and ambassador twice to South Vietnam.\n",
      "Candidates for the Vice-Presidential nomination:\n",
      "\n",
      "As of the 2020 presidential election, 1968 was the last time that two siblings (Nelson and Winthrop Rockefeller) ran against each other in a Presidential primary.\n",
      "\n",
      "Democratic Party nomination\n",
      "Other major candidates\n",
      "The following candidates were frequently interviewed by major broadcast networks, were listed in publicly published national polls, or ran a campaign that extended beyond their home delegation in the case of favorite sons.\n",
      "Humphrey received 166,463 votes in the primaries.\n",
      "\n",
      "Enter Eugene McCarthy\n",
      "Because Lyndon B. Johnson had been elected to the presidency only once, in 1964, and had served less than two full years of the term before that, the 22nd Amendment did not disqualify him from running for another term. As a result, it was widely assumed when 1968 began that President Johnson would run for another term, and that he would have little trouble winning the Democratic nomination.\n",
      "Despite growing opposition to Johnson's policies in Vietnam, it appeared that no prominent Democratic candidate would run against a sitting president of his own party. It was also accepted at the beginning of the year that Johnson's record of domestic accomplishments would overshadow public opposition to the Vietnam War and that he would easily boost his public image after he started campaigning. Even United States Senator Robert F. Kennedy from New York, an outspoken critic of Johnson's policies, with a large base of support, publicly declined to run against Johnson in the primaries. Poll numbers also suggested that a large share of Americans who opposed the Vietnam War felt the growth of the anti-war hippie movement among younger Americans and violent unrest on college campuses\n",
      "was not helping their cause. On January 30, however, claims by the Johnson administration that a recent troop surge would soon bring an end to the war were severely discredited when the Tet Offensive broke out. Although the American military was eventually able to fend off the attacks, and also inflict heavy losses among the communist opposition, the ability of the North Vietnamese Army and Viet Cong to launch large scale attacks during the Tet Offensive's long duration greatly weakened American support for the military draft and further combat operations in Vietnam. A recorded phone conversation which Johnson had with Chicago mayor Richard J. Daley on January 27 revealed that both men had become aware of Kennedy's private intention to enter the Democratic presidential primaries and that Johnson was willing to accept Daley's offer to run as Humphrey's vice president if he were to end his re-election campaign. Daley, whose city would host the 1968 Democratic National Convention, also preferred either Johnson or Humphrey over any other candidate, and stated that Kennedy had met him the week before, and that he was unsuccessful in his attempt to win over Daley's support.In time, only United States Senator Eugene McCarthy from Minnesota proved willing to challenge Johnson openly. Running as an anti-war candidate in the New Hampshire primary, McCarthy hoped to pressure the Democrats into publicly opposing the Vietnam War. Since New Hampshire was the first presidential primary of 1968, McCarthy poured most of his limited resources into the state. He was boosted by thousands of young college students, led by youth coordinator Sam Brown, who shaved their beards and cut their hair to be \"Clean for Gene\". These students organized get-out-the-vote drives, rang doorbells, distributed McCarthy buttons and leaflets, and worked hard in New Hampshire for McCarthy. On March 12, McCarthy won 42 percent of the primary vote, to Johnson's 49 percent, a shockingly strong showing against an incumbent president, which was even more impressive because Johnson had more than 24 supporters running for the Democratic National Convention delegate slots to be filled in the election, while McCarthy's campaign organized more strategically. McCarthy won 20 of the 24 delegates. This gave McCarthy's campaign legitimacy and momentum.\n",
      "Sensing Johnson's vulnerability, Senator Robert F. Kennedy announced his candidacy four days after the New Hampshire primary. Thereafter, McCarthy and Kennedy engaged in a series of state primaries. Despite Kennedy's high profile, McCarthy won most of the early primaries, including Kennedy's native state of Massachusetts and some primaries in which he and Kennedy were in direct competition. Following his victory in the key battleground state of Oregon, it was assumed that McCarthy was the preferred choice among the young voters.\n",
      "\n",
      "Johnson withdraws\n",
      "On March 31, 1968, following the New Hampshire primary and Kennedy's entry into the election, the president made a televised speech to the nation and said that he was suspending all bombing of North Vietnam in favor of peace talks. After concluding his speech, Johnson announced,\n",
      "\n",
      "\"With America's sons in the fields far away, with America's future under challenge right here at home, with our hopes and the world's hopes for peace in the balance every day, I do not believe that I should devote an hour or a day of my time to any personal partisan causes or to any duties, other than the awesome duties of this office — the presidency of your country. Accordingly, I shall not seek, and I will not accept, the nomination of my party for another term as your President.\"\n",
      "Not discussed publicly at the time was Johnson's concern that he might not survive another term — Johnson's health was poor, and he had already suffered a serious heart attack in 1955. He died on January 22, 1973, two days after the end of the new presidential term. Bleak political forecasts also contributed to Johnson's withdrawal; internal polling by Johnson's campaign in Wisconsin, the next state to hold a primary election, showed the President trailing badly.\n",
      "\n",
      "Historians have debated why Johnson quit a few days after his weak showing in New Hampshire. Jeff Shesol says Johnson wanted out of the White House, but also wanted vindication; when the indicators turned negative, he decided to leave. Lewis L. Gould says that Johnson had neglected the Democratic party, was hurting it by his Vietnam policies, and under-estimated McCarthy's strength until the last minute, when it was too late for Johnson to recover. Randall Bennett Woods said Johnson realized he needed to leave, in order for the nation to heal. Robert Dallek writes that Johnson had no further domestic goals, and realized that his personality had eroded his popularity. His health was poor, and he was pre-occupied with the Kennedy campaign; his wife was pressing for his retirement, and his base of support continued to shrink. Leaving the race would allow him to pose as a peace-maker. Anthony J. Bennett, however, said Johnson \"had been forced out of a re-election race in 1968 by outrage over his policy in Southeast Asia\".In 2009, an AP reporter said that Johnson decided to end his re-election bid after CBS News anchor Walter Cronkite, who was influential, turned against the president's policy in Vietnam. During a CBS News editorial which aired on February 27, Cronkite recommended the US pursue peace negotiations. After watching Cronkite's editorial, Johnson allegedly exclaimed: \"If I've lost Cronkite, I've lost Middle America.\" This quote by Johnson has been disputed for accuracy. Johnson was attending Texas Governor John Connally's birthday gala in Austin, Texas, when Cronkite's editorial aired and did not see the original broadcast. But, Cronkite and CBS News correspondent Bob Schieffer defended reports that the remark had been made. They said that members of Johnson's inner circle, who had watched the editorial with the president, including presidential aide George Christian and journalist Bill Moyers, later confirmed the accuracy of the quote to them. Schieffer, who was a reporter for the Star-Telegram's WBAP television station in Fort Worth, Texas, when Cronkite's editorial aired, acknowledged reports that the president saw the editorial's original broadcast were inaccurate, but claimed the president was able to watch a taping of it the morning after it aired and then made the remark. However, Johnson's January 27, 1968, phone conversion with Chicago Mayor Richard J. Daley revealed that the two were trying to feed Robert Kennedy's ego so he would stay in the race, convincing him that the Democratic Party was undergoing a \"revolution\". They suggested he might earn a spot as vice president.After Johnson's withdrawal, the Democratic Party quickly split into four factions.\n",
      "\n",
      "The first faction consisted of labor unions and big-city party bosses (led by Mayor Richard J. Daley). This group had traditionally controlled the Democratic Party since the days of President Franklin D. Roosevelt, and they feared loss of their control over the party. After Johnson's withdrawal this group rallied to support Hubert Humphrey, Johnson's vice-president; it was also believed that President Johnson himself was covertly supporting Humphrey, despite his public claims of neutrality.\n",
      "The second faction, which rallied behind Senator Eugene McCarthy, was composed of college students, intellectuals, and upper-middle-class urban whites who had been the early activists against the war in Vietnam; they perceived themselves as the future of the Democratic Party.\n",
      "The third group was primarily composed of African-Americans, Latinos, and other minorities, as well as several anti-war groups; these groups rallied behind Senator Robert F. Kennedy.\n",
      "The fourth group consisted of white Southern Democrats. Some older voters, remembering the New Deal's positive impact upon the rural South, supported Vice-president Humphrey. Many would rally behind the third-party campaign of former Alabama Governor George Wallace as a \"law and order\" candidate.Since the Vietnam War had become the major issue that was dividing the Democratic Party, and Johnson had come to symbolize the war for many liberal Democrats, Johnson believed that he could not win the nomination without a major struggle, and that he would probably lose the election in November to the Republicans. However, by withdrawing from the race, he could avoid the stigma of defeat, and he could keep control of the party machinery by giving the nomination to Humphrey, who had been a loyal vice-president. Milne (2011) argues that, in terms of foreign-policy in the Vietnam War, Johnson at the end wanted Nixon to be president rather than Humphrey, since Johnson agreed with Nixon, rather than Humphrey, on the need to defend South Vietnam from communism. However, Johnson's telephone calls show that Johnson believed the Nixon camp was deliberately sabotaging the Paris peace talks. He told Humphrey, who refused to use allegations based on illegal wiretaps of a presidential candidate. Nixon himself called Johnson and denied the allegations. Dallek concludes that Nixon's advice to Saigon made no difference, and that Humphrey was so closely identified with Johnson's unpopular policies that no last-minute deal with Hanoi could have affected the election.\n",
      "\n",
      "Contest\n",
      "After Johnson's withdrawal, Vice President Hubert Humphrey announced his candidacy. Kennedy was successful in four state primaries (Indiana, Nebraska, South Dakota, and California), and McCarthy won six (Wisconsin, Pennsylvania, Massachusetts, Oregon, New Jersey, and Illinois). However, in primaries where they campaigned directly against one another, Kennedy won three primaries (Indiana, Nebraska, and California), and McCarthy won only one (Oregon). Humphrey did not compete in the primaries, leaving that job to favorite sons who were his surrogates, notably United States Senator George A. Smathers from Florida, United States Senator Stephen M. Young from Ohio, and Governor Roger D. Branigin of Indiana. Instead, Humphrey concentrated on winning the delegates in non-primary states, where party leaders such as Chicago Mayor Richard J. Daley controlled the delegate votes in their states. Kennedy defeated Branigin and McCarthy in the Indiana primary, and then defeated McCarthy in the Nebraska primary. However, McCarthy upset Kennedy in the Oregon primary.\n",
      "After Kennedy's defeat in Oregon, the California primary was seen as crucial to both Kennedy and McCarthy. McCarthy stumped the state's many colleges and universities, where he was treated as a hero for being the first presidential candidate to oppose the war. Kennedy campaigned in the ghettos and barrios of the state's larger cities, where he was mobbed by enthusiastic supporters. Kennedy and McCarthy engaged in a television debate a few days before the primary; it was generally considered a draw. On June 4, Kennedy narrowly defeated McCarthy in California, 46%–42%. However, McCarthy refused to withdraw from the race, and made it clear that he would contest Kennedy in the upcoming New York primary, where McCarthy had much support from anti-war activists in New York City. The New York primary quickly became a moot point, however, for Kennedy was assassinated shortly after midnight on June 5; he died twenty-six hours later at Good Samaritan Hospital. Kennedy had just given his victory speech in a crowded ballroom of the Ambassador Hotel in Los Angeles; he and his aides then entered a narrow kitchen pantry on their way to a banquet room to meet with reporters. In the pantry, Kennedy and five others were shot by Sirhan Sirhan, a 24-year-old Rosicrucian Palestinian of Christian background and Jordanian citizenship, who hated Kennedy because of his support for Israel. Sirhan admitted his guilt, was convicted of murder, and is still in prison. In recent years some have cast doubt on Sirhan's guilt, including Sirhan himself, who said he was \"brainwashed\" into killing Kennedy and was a patsy.Political historians still debate whether Kennedy could have won the Democratic nomination, had he lived. Some historians, such as Theodore H. White and Arthur M. Schlesinger, Jr., have argued that Kennedy's broad appeal and famed charisma would have convinced the party bosses at the Democratic Convention to give him the nomination. Jack Newfield, author of RFK: A Memoir, stated in a 1998 interview that on the night he was assassinated, \"[Kennedy] had a phone conversation with Mayor Daley of Chicago, and Mayor Daley all but promised to throw the Illinois delegates to Bobby at the convention in August 1968. I think he said to me, and Pete Hamill: 'Daley is the ball game, and I think we have Daley.'\" However, other writers such as Tom Wicker, who covered the Kennedy campaign for The New York Times, believe that Humphrey's large lead in delegate votes from non-primary states, combined with Senator McCarthy's refusal to quit the race, would have prevented Kennedy from ever winning a majority at the Democratic Convention, and that Humphrey would have been the Democratic nominee, even if Kennedy had lived. The journalist Richard Reeves and historian Michael Beschloss have both written that Humphrey was the likely nominee, and future Democratic National Committee chairman Larry O'Brien wrote in his memoirs that Kennedy's chances of winning the nomination had been slim, even after his win in California.\n",
      "At the moment of RFK's death, the delegate totals were:\n",
      "\n",
      "Hubert Humphrey 561\n",
      "Robert F. Kennedy 393\n",
      "Eugene McCarthy 258Total popular vote:\n",
      "\n",
      "Democratic Convention and antiwar protests\n",
      "Robert Kennedy's death altered the dynamics of the race. Although Humphrey appeared the presumptive favorite for the nomination, thanks to his support from the traditional power blocs of the party, he was an unpopular choice with many of the anti-war elements within the party, who identified him with Johnson's controversial position on the Vietnam War. However, Kennedy's delegates failed to unite behind a single candidate who could have prevented Humphrey from getting the nomination. Some of Kennedy's support went to McCarthy, but many of Kennedy's delegates, remembering their bitter primary battles with McCarthy, refused to vote for him. Instead, these delegates rallied around the late-starting candidacy of Senator George McGovern of South Dakota, a Kennedy supporter in the spring primaries who had presidential ambitions himself. This division of the anti-war votes at the Democratic Convention made it easier for Humphrey to gather the delegates he needed to win the nomination.\n",
      "When the 1968 Democratic National Convention opened in Chicago, thousands of young activists from around the nation gathered in the city to protest the Vietnam War. On the evening of August 28, in a clash which was covered on live television, Americans were shocked to see Chicago police brutally beating anti-war protesters in the streets of Chicago in front of the Conrad Hilton Hotel. While the protesters chanted, \"The whole world is watching\", the police used clubs and tear gas to beat back or arrest the protesters, leaving many of them bloody and dazed. The tear gas wafted into numerous hotel suites; in one of them Vice President Humphrey was watching the proceedings on television. The police said that their actions were justified because numerous police officers were being injured by bottles, rocks, and broken glass that were being thrown at them by the protestors. The protestors had also yelled insults at the police, calling them \"pigs\" and other epithets. The anti-war and police riot divided the Democratic Party's base: some supported the protestors and felt that the police were being heavy-handed, but others disapproved of the violence and supported the police. Meanwhile, the convention itself was marred by the strong-arm tactics of Chicago's mayor Richard J. Daley (who was seen on television angrily cursing Senator Abraham Ribicoff from Connecticut, who made a speech at the convention denouncing the excesses of the Chicago police). In the end, the nomination itself was anti-climactic, with Vice-president Humphrey handily beating McCarthy and McGovern on the first ballot.\n",
      "After the delegates nominated Humphrey, the convention then turned to selecting a vice-presidential nominee. The main candidates for this position were Senators Edward M. Kennedy from Massachusetts, Edmund Muskie from Maine, and Fred R. Harris from Oklahoma; Governors Richard Hughes of New Jersey and Terry Sanford of North Carolina; Mayor Joseph Alioto of San Francisco, California; former Deputy Secretary of Defense Cyrus Vance; and Ambassador Sargent Shriver from Maryland. Another idea floated was to tap Republican Governor Nelson Rockefeller of New York, one of the most liberal Republicans. Ted Kennedy was Humphrey's first choice, but the senator turned him down. After narrowing it down to Senator Muskie and Senator Harris, Vice-president Humphrey chose Muskie, a moderate and environmentalist from Maine, for the nomination. The convention complied with the request and nominated Senator Muskie as Humphrey's running mate.\n",
      "The publicity from the anti-war riots crippled Humphrey's campaign from the start, and it never fully recovered. Before 1968 the city of Chicago had been a frequent host for the political conventions of both parties; since 1968 only one national convention has been held there (the Democratic convention of 1996, which nominated Bill Clinton for a second term).\n",
      "Source: Keating Holland, \"All the Votes... Really\", CNN\n",
      "\n",
      "Endorsements\n",
      "Hubert Humphrey\n",
      "\n",
      "President Lyndon B. Johnson\n",
      "Mayor Richard J. Daley of Chicago\n",
      "Former President Harry S. Truman\n",
      "Singer/actor Frank SinatraRobert F. Kennedy\n",
      "\n",
      "Senator Abraham Ribicoff from Connecticut\n",
      "Senator George McGovern from South Dakota\n",
      "Senator Vance Hartke from Indiana\n",
      "Labor Leader Cesar Chavez\n",
      "Writer Truman Capote\n",
      "Writer Norman Mailer\n",
      "Actress Shirley MacLaine\n",
      "Actress Stefanie Powers\n",
      "Actor Robert Vaughn\n",
      "Actor Peter Lawford\n",
      "Singer Bobby DarinEugene McCarthy\n",
      "\n",
      "Representative Don Edwards from California\n",
      "Actor Paul Newman\n",
      "Actress Tallulah Bankhead\n",
      "Playwright Arthur Miller\n",
      "Writer William StyronGeorge McGovern (during convention)\n",
      "\n",
      "Senator Abraham Ribicoff from Connecticut\n",
      "Governor Harold E. Hughes of Iowa\n",
      "\n",
      "American Independent Party nomination\n",
      "The American Independent Party, which was established in 1967 by Bill and Eileen Shearer, nominated former Alabama Governor George Wallace – whose pro-racial segregation policies had been rejected by the mainstream of the Democratic Party – as the party's candidate for president. The impact of the Wallace campaign was substantial, winning the electoral votes of several states in the Deep South. He appeared on the ballot in all fifty states, but not the District of Columbia. Although he did not come close to winning any states outside the South, Wallace was the 1968 presidential candidate who most disproportionately drew his support from among young men. Wallace also proved to be popular among blue-collar workers in the North and Midwest, and he took many votes which might have gone to Humphrey.Wallace was not expected to win the election – his strategy was to prevent either major party candidate from winning a preliminary majority in the Electoral College. Although Wallace put considerable effort into mounting a serious general election campaign, his presidential bid was also a continuation of Southern efforts to elect unpledged electors that had taken place in every election from 1956 – he had his electors promise to vote not necessarily for him but rather for whomever he directed them to support – his objective was not to move the election into the U.S. House of Representatives where he would have had little influence, but rather to give himself the bargaining power to determine the winner. Wallace's running mate was retired four star General Curtis LeMay.\n",
      "Prior to deciding on LeMay, Wallace gave serious consideration to former U.S. senator, governor, and Baseball Commissioner A. B. Happy Chandler of Kentucky as his running mate. Chandler and Wallace met a number of times; however, Chandler said that he and Wallace were unable to come to an agreement regarding their positions on racial matters. Paradoxically, Chandler supported the segregationist Dixiecrats in the 1948 presidential elections. However, after being re-elected Governor of Kentucky in 1955, he used National Guard troops to enforce school integration.LeMay embarrassed Wallace's campaign in the fall by suggesting that nuclear weapons could be used in Vietnam.\n",
      "\n",
      "Other parties and candidates\n",
      "Also on the ballot in two or more states were black activist Eldridge Cleaver (who was ineligible to take office, as he would have only been 33 years of age on January 20, 1969) for the Peace and Freedom Party; Henning Blomen for the Socialist Labor Party; Fred Halstead for the Socialist Workers Party; E. Harold Munn for the Prohibition Party; and Charlene Mitchell – the first African-American woman to run for president, and the first woman to receive valid votes in a general election – for the Communist Party. Comedians Dick Gregory and Pat Paulsen were notable write-in candidates. A facetious presidential candidate for 1968 was a pig named Pigasus, as a political statement by the Yippies, to illustrate their premise that \"one pig's as good as any other\".\n",
      "\n",
      "General election\n",
      "Polling\n",
      "Campaign strategies\n",
      "Nixon developed a \"Southern strategy\" that was designed to appeal to conservative white southerners, who had traditionally voted Democratic, but were opposed to Johnson and Humphrey's support for the civil rights movement, as well as the rioting that had broken out in the ghettos of most large cities. Wallace, however, won over many of the voters Nixon targeted, effectively splitting that voting bloc. Indeed, Wallace deliberately targeted many states he had little chance of carrying himself in the hope that by splitting as many votes with Nixon as possible he would give competitive states to Humphrey and, by extension, boost his own chances of denying both opponents an Electoral College majority.Since he was well behind Nixon in the polls as the campaign began, Humphrey opted for a slashing, fighting campaign style. He repeatedly – and unsuccessfully – challenged Nixon to a televised debate, and he often compared his campaign to the successful underdog effort of President Harry Truman, another Democrat who had trailed in the polls, in the 1948 presidential election. Humphrey predicted that he, like Truman, would surprise the experts and win an upset victory.\n",
      "\n",
      "Campaign themes\n",
      "Nixon campaigned on a theme to restore \"law and order\", which appealed to many voters angry with the hundreds of violent riots that had taken place across the country in the previous few years. Following the murder of Martin Luther King in April 1968, there was massive rioting in inner city areas. The police were overwhelmed and President Johnson decided to call out the U.S. Army. Nixon also opposed forced busing to desegregate schools. Proclaiming himself a supporter of civil rights, he recommended education as the solution rather than militancy. During the campaign, Nixon proposed government tax incentives to African Americans for small businesses and home improvements in their existing neighborhoods.During the campaign, Nixon also used as a theme his opposition to the decisions of Chief Justice Earl Warren, pledging to \"remake the Supreme Court.\" Many conservatives were critical of Chief Justice Warren for using the Supreme Court to promote liberal policies in the fields of civil rights, civil liberties, and the separation of church and state. Nixon promised that if he were elected president, he would appoint justices who would take a less-active role in creating social policy. In another campaign promise, he pledged to end the draft. During the 1960s, Nixon had been impressed by a paper he had read by Professor Martin Anderson of Columbia University. Anderson had argued in the paper for an end to the draft and the creation of an all-volunteer army. Nixon also saw ending the draft as an effective way to undermine the anti-Vietnam war movement, since he believed affluent college-age youths would stop protesting the war once their own possibility of having to fight in it was gone.Humphrey, meanwhile, promised to continue and expand the Great Society welfare programs started by President Johnson, and to continue the Johnson Administration's \"War on Poverty\". He also promised to continue the efforts of Presidents Kennedy and Johnson, and the Supreme Court, in promoting the expansion of civil rights and civil liberties for minority groups. However, Humphrey also felt constrained for most of his campaign in voicing any opposition to the Vietnam War policies of President Johnson, due to his fear that Johnson would reject any peace proposals he made and undermine his campaign. As a result, early in his campaign Humphrey often found himself the target of anti-war protestors, some of whom heckled and disrupted his campaign rallies.\n",
      "\n",
      "Humphrey's comeback and the October surprise\n",
      "After the Democratic Convention in late August, Humphrey trailed Nixon by double digits in most polls, and his chances seemed hopeless. Many within Humphrey's campaign saw their real goal as avoiding the potential humiliation of finishing behind Wallace in the electoral college vote (if not necessarily the popular vote), rather than having any serious chance of defeating Nixon. According to Time magazine, \"The old Democratic coalition was disintegrating, with untold numbers of blue-collar workers responding to Wallace's blandishments, Negroes threatening to sit out the election, liberals disaffected over the Vietnam War, the South lost. The war chest was almost empty, and the party's machinery, neglected by Lyndon Johnson, creaked in disrepair.\" Calling for \"the politics of joy\", and using the still-powerful labor unions as his base, Humphrey fought back. In order to distance himself from Johnson, and to take advantage of the Democratic plurality in voter registration, Humphrey stopped being identified in ads as \"Vice-President Hubert Humphrey\", instead being labelled \"Democratic candidate Hubert Humphrey\". Humphrey attacked Wallace as a racist bigot who appealed to the darker impulses of Americans. Wallace had been rising in the polls, and peaked at 21% in September, but his momentum stopped after he selected Curtis LeMay as his running mate. Curtis LeMay's suggestion of tactical nuclear weapons being used in Vietnam conjured up memories of the 1964 Goldwater campaign. Labor unions also undertook a major effort to win back union members who were supporting Wallace, with substantial success. Polls that showed Wallace winning almost one-half of union members in the summer of 1968 showed a sharp decline in his union support as the campaign progressed. As election day approached and Wallace's support in the North and Midwest began to wane, Humphrey finally began to climb in the polls.\n",
      "In October, Humphrey—who was rising sharply in the polls due to the collapse of the Wallace vote—began to distance himself publicly from the Johnson administration on the Vietnam War, calling for a bombing halt. The key turning point for Humphrey's campaign came when President Johnson officially announced a bombing halt, and even a possible peace deal, the weekend before the election. The \"Halloween Peace\" gave Humphrey's campaign a badly needed boost. In addition, Senator Eugene McCarthy finally endorsed Humphrey in late October after previously refusing to do so, and by election day the polls were reporting a dead heat.\n",
      "\n",
      "Nixon campaign sabotage of peace talks\n",
      "The Nixon campaign had anticipated a possible \"October surprise\", a peace agreement produced by the Paris negotiations; as such an agreement would be a boost to Humphrey, Nixon thwarted any last-minute chances of a \"Halloween Peace\". Nixon told campaign aide and his future White House Chief of Staff H. R. Haldeman to put a \"monkey wrench\" into an early end to the war. Johnson was enraged and said that Nixon had \"blood on his hands\", and that Senate Minority Leader Everett Dirksen agreed with Johnson that such action was \"treason\". Defense Secretary Clark Clifford considered the moves an illegal violation of the Logan Act. A former director of the Nixon Library called it a \"covert action\" which \"laid the skulduggery of his presidency\".Bryce Harlow, former Eisenhower White House staff member, claimed to have \"a double agent working in the White House... I kept Nixon informed.\" Harlow and Nixon's future National Security Advisor and Secretary of State Henry Kissinger, who was friendly with both campaigns and guaranteed a job in either a Humphrey or Nixon administration, separately predicted Johnson's \"bombing halt\": \"The word is out that we are making an effort to throw the election to Humphrey. Nixon has been told of it\", Democratic senator George Smathers informed Johnson.Nixon asked Anna Chennault to be his \"channel to Mr. Thieu\" in order to advise him to refuse participation in the talks, in what is sometimes described as the \"Anna Chennault Affair\". Thieu was promised a better deal under a Nixon administration. Chennault agreed and periodically reported to John Mitchell that Thieu had no intention of attending a peace conference. On November 2, Chennault informed the South Vietnamese ambassador: \"I have just heard from my boss in Albuquerque who says his boss [Nixon] is going to win. And you tell your boss [Thieu] to hold on a while longer.\" In 1997, Chennault admitted that, \"I was constantly in touch with Nixon and Mitchell\". The effort also involved Texas Senator John Tower and Kissinger, who traveled to Paris on behalf of the Nixon campaign. William Bundy stated that Kissinger obtained \"no useful inside information\" from his trip to Paris, and \"almost any experienced Hanoi watcher might have come to the same conclusion\". While Kissinger may have \"hinted that his advice was based on contacts with the Paris delegation\", this sort of \"self-promotion ... is at worst a minor and not uncommon practice, quite different from getting and reporting real secrets\".Johnson learned of the Nixon-Chennault effort because the NSA was intercepting communications in Vietnam. In response, Johnson ordered NSA surveillance of Chennault and wire-tapped the South Vietnamese embassy and members of the Nixon campaign. He did not leak the information to the public because he did not want to \"shock America\" with the revelation, nor reveal that the NSA was intercepting communications in Vietnam. Johnson did make information available to Humphrey, but at this point Humphrey thought he was going to win the election, so he did not reveal the information to the public. Humphrey later regretted this as a mistake. The South Vietnamese government withdrew from peace negotiations, and Nixon publicly offered to go to Saigon to help the negotiations. A promising \"peace bump\" ended up in \"shambles\" for the Democratic Party.\n",
      "\n",
      "Election\n",
      "The election on November 5, 1968, proved to be extremely close, and it was not until the following morning that the television news networks were able to declare Nixon the winner. The key states proved to be California, Ohio, and Illinois, all of which Nixon won by three percentage points or less. Had Humphrey carried all three of these states, he would have won the election. Had he carried only two of them or just California among them, George Wallace would have succeeded in his aim of preventing an electoral college majority for any candidate, and the decision would have been given to the House of Representatives, at the time controlled by the Democratic Party. Nixon won the popular vote with a plurality of 512,000 votes, or a victory margin of about one percentage point. In the electoral college Nixon's victory was larger, as he carried 32 states with 301 electoral votes, compared to Humphrey's 13 states and 191 electoral votes and Wallace's five states and 46 electoral votes.Out of all the states that Nixon had previously carried in 1960, Maine and Washington were the only two states that did not vote for him again; Nixon carried them during his re-election campaign in 1972. He also carried eight states that voted for John F. Kennedy in 1960: Illinois, New Jersey, Missouri, North Carolina, South Carolina, New Mexico, Nevada and Delaware. This was the last time until 1988 that the state of Washington voted Democratic and until 1992 that Connecticut, Maine, and Michigan voted Democratic in the general election. Nixon was also the last Republican candidate to win a presidential election without carrying Alabama, Arkansas, Louisiana, Mississippi, and Texas. This is the first time which the Republican candidate captured the White House without carrying Michigan, Minnesota, Maine and Pennsylvania. He would be the last Republican candidate to carry Minnesota (four years later, in 1972), as of 2020. This is also the first time since 1916 that Minnesota voted for the candidate who did not eventually win.Remarkably, Nixon won the election despite winning only two of the six states (Arizona and South Carolina) won by Republican Barry Goldwater four years earlier. He remains the only presidential candidate to win in spite of defending such a low number of his own party's states. All of the remaining four States carried by Goldwater were carried by Wallace in 1968. They would be won by Nixon in 1972. Four of the fives states won by Wallace had voted for Goldwater.Of the 3,130 counties/districts/independent cities making returns, Nixon won in 1,859 (59.39%) while Humphrey carried 693 (22.14%). Wallace was victorious in 578 counties (18.47%), all of which (with one exception of Pemiscot County, Missouri) were located in the South.Nixon said that Humphrey left a gracious message congratulating him, noting, \"I know exactly how he felt. I know how it feels to lose a close one.\"\n",
      "\n",
      "Results\n",
      "Nixon's victory is often considered a realigning election in American politics. From 1932 to 1964, the Democratic Party was undoubtedly the majority party, winning seven out of nine presidential elections, and their agenda influenced policies undertaken by the Republican Eisenhower administration. The 1968 election reversed the situation completely. From 1968 until 2004, Republicans won seven out of ten presidential elections, and its policies clearly affected those enacted by the Democratic Clinton administration via the Third Way.The election was a seismic event in the long-term realignment in Democratic Party support, especially in the South. Nationwide, the bitter splits over civil rights, the new left, the Vietnam War, and other \"culture wars\" were slow to heal. Democrats could no longer count on white Southern support for the presidency, as Republicans made major gains in suburban areas and areas filled with Northern migrants. The rural Democratic \"courthouse cliques\" in the South lost power. While Democrats controlled local and state politics in the South, Republicans usually won the presidential vote. In 1968, Humphrey won less than ten percent of the white Southern vote, with two-thirds of his vote in the region coming from blacks, who now voted in full strength.From 1968 until 2004, only two Democrats were elected president, both native Southerners – Jimmy Carter of Georgia and Bill Clinton of Arkansas. Not until 2008 did a Northern Democrat, Barack Obama of Illinois, again win a presidential election. In 2020, another Northern Democrat, Joe Biden of Delaware, won a presidential election.Another important result of this election was that it led to several reforms in how the Democratic Party chose its presidential nominees. In 1969, the McGovern–Fraser Commission adopted a set of rules for the states to follow in selecting convention delegates. These rules reduced the influence of party leaders on the nominating process and provided greater representation for minorities, women, and youth. The reforms led most states to adopt laws requiring primary elections, instead of party leaders, to choose delegates.After 1968, the only way to win the party's presidential nomination became through the primary process; Humphrey turned out to be the last nominee of either major party to win his party's nomination without having directly competed in the primaries.\n",
      "Interestingly, this remains the most recent presidential election in which the incumbent president was not nominated for a presidential term despite being eligible, and the only such election to occur after the Twenty-second Amendment came into effect. It is also the last election in which any third-party candidate won an entire state's electoral votes, with Wallace carrying five states.This election was the last time until 1992 that the Democratic nominee won Connecticut, Maine, and Michigan and the last until 1988 when Washington voted Democrat, and the last time a Republican won the presidency without winning Alabama, Arkansas, Louisiana, Mississippi, and Texas. It was also the first time since 1888 that bellwether Coös County, New Hampshire did not support the winning candidate.This was the first time since 1928 that North Carolina voted for a Republican, and the first since 1912 (only the second time since 1852 and as of 2020, the last time) that Maine and Vermont did not support same party. Similarly, it is the last time that Oregon and Washington did not support the same party, meaning the two neighbouring states have only voted for different candidates twice in 100 years.\n",
      "Despite the narrow (0.7%) difference in the popular vote, Humphrey took only 35.5% of the electoral vote. This disparity prompted the introduction of the Bayh–Celler amendment in Congress, which would have replaced the Electoral College with a direct election of the presidency. The effort was not successful and the Electoral College is still in force.\n",
      "\n",
      "Results\n",
      "Source (Popular Vote): Leip, David. \"1968 Presidential Election Results\". Dave Leip's Atlas of U.S. Presidential Elections. Retrieved August 7, 2005.\n",
      "Source (Electoral Vote): \"Electoral College Box Scores 1789–1996\". National Archives and Records Administration. Retrieved August 7, 2005.\n",
      "\n",
      "Geography of results\n",
      "Cartographic gallery\n",
      "Results by state\n",
      "Close states\n",
      "States where margin of victory was less than 5 percentage points (223 electoral votes):\n",
      "\n",
      "States where margin of victory was more than 5 percentage points, but less than 10 percentage points (155 electoral votes):\n",
      "\n",
      "Notes: In Alabama, Wallace was the official Democratic Party nominee, while Humphrey ran on the ticket of short-lived National Democratic Party of Alabama, loyal to him as an official Democratic Party nominee.In North Carolina one Nixon Elector cast his ballot for George Wallace (President) and Curtis LeMay (Vice President).\n",
      "\n",
      "Statistics\n",
      "Counties with Highest Percent of Vote (Republican)\n",
      "\n",
      "Hooker County, Nebraska 87.94%\n",
      "Jackson County, Kentucky 84.09%\n",
      "McIntosh County, North Dakota 82.65%\n",
      "McPherson County, South Dakota 80.34%\n",
      "Sioux County, Iowa 80.04%Counties with Highest Percent of Vote (Democratic)\n",
      "\n",
      "Duval County, Texas 88.74%\n",
      "Jim Hogg County, Texas 82.06%\n",
      "Washington, D.C. 81.82%\n",
      "Webb County, Texas 79.65%\n",
      "Suffolk County, Massachusetts 75.62%Counties with Highest Percent of Vote (American Independent)\n",
      "\n",
      "Geneva County, Alabama 91.73%\n",
      "George County, Mississippi 91.20%\n",
      "Lamar County, Alabama 88.25%\n",
      "Calhoun County, Mississippi 87.80%\n",
      "Holmes County, Florida 87.21%\n",
      "\n",
      "National voter demographics\n",
      "Source: Congressional Quarterly Weekly Report. \"Group Analysis of the 1968 Presidential Vote\" XXVI, No. 48 (November 1968), p. 3218.\n",
      "\n",
      "Voter demographics in the South\n",
      "Source: Congressional Quarterly Weekly Report. \"Group Analysis of the 1968 Presidential Vote\", XXVI, No. 48 (November 1968), p. 3218.\n",
      "\n",
      "See also\n",
      "1968 United States House of Representatives elections\n",
      "1968 United States Senate elections\n",
      "1968 United States gubernatorial elections\n",
      "History of the United States (1964–1980)\n",
      "History of the United States Democratic Party\n",
      "History of the United States Republican Party\n",
      "List of presidents of the United States\n",
      "First inauguration of Richard Nixon\n",
      "\n",
      "Sources\n",
      "White, Theodore H., The Making of the President 1968. Pocket Books, 1970.\n",
      "\n",
      "References\n",
      "Notes\n",
      "Further reading\n",
      "Ambrose, Stephen E. (1987). Nixon: The Education of a Politician: 1962–1972.\n",
      "Boomhower, Ray E. \"Fighting the Good Fight: John Bartlow Martin and Hubert Humphrey's 1968 Presidential Campaign.\" Indiana Magazine of History (2020) 116#1 pp 1–29.\n",
      "Brown, Stuart Gerry. The Presidency on Trial: Robert Kennedy's 1968 Campaign and Afterwards. U. Press of Hawaii, 1972. 155 pp.\n",
      "Burner, David, and West, Thomas R. The Torch Is Passed: The Kennedy Brothers and American Liberalism. (1984). 307 pp.\n",
      "Carter, Dan T. (1995). The Politics of Rage: George Wallace, the Origins of the New Conservatism, and the Transformation of American Politics. ISBN 978-0-8071-2597-7.\n",
      "Chester, Lewis; Hodgson, Godfrey; Page, Bruce (1969). An American Melodrama: The Presidential Campaign of 1968. Viking Press. ISBN 978-0-670-11991-2.\n",
      "Coffey, Justin P. Spiro Agnew and the Rise of the Republican Right (ABC-CLIO, 2015).\n",
      "Cohen, Michael A. American Maelstrom: The 1968 Election and the Politics of Division (Oxford UP, 2016) excerpt and online review\n",
      "Converse, Philip E.; Miller, Warren E.; Rusk, Jerrold G.; Wolfe, Arthur C. (1969). \"Continuity And Change In American Politics: Parties and Issues in the 1968 Election\". American Political Science Review. 63 (4): 1083–1105. doi:10.2307/1955073. JSTOR 1955073.\n",
      "Gould, Lewis L. (1993). 1968: The Election that Changed America. Ivan R. Dee. ISBN 978-1-56663-010-8.\n",
      "Herzog, Arthur. McCarthy for President (1969)\n",
      "Farber, David (1988). Chicago '68. University of Chicago Press. ISBN 978-0-226-23800-5.\n",
      "Jamieson, Patrick E. \"Seeing the Lyndon B. Johnson Presidency through the March 31, 1968 Withdrawal Speech.\" Presidential Studies Quarterly Vol 29#1 1999 pp. 134+\n",
      "Kimball, Warren F. \"The Election of 1968.\" Diplomatic History 2004 28(4): 513–528. ISSN 0145-2096 Fulltext online in SwetsWise, Ingenta and Ebsco. Comments by others at pp. 563–576; reply, p. 577.\n",
      "Kogin, Michael (Spring 1966). \"Wallace and the Middle Class\". Public Opinion Quarterly. 30 (1): 98. doi:10.1086/267384.\n",
      "LaFerber, Walter. The Deadly Bet: LBJ, Vietnam, and the 1968 Election (2005) short survey\n",
      "Lesher, Stephan. George Wallace: American Populist. (1994). 587 pp.\n",
      "Lichtenstein, Nelson, ed. Political Profiles: The Johnson Years. 1976. short biographies of 400+ key politicians.\n",
      "Longley, Kyle. LBJ's 1968: Power, Politics, and the Presidency in America's Year of Upheaval (2018) excerpt\n",
      "Mayer, Jeremy D. (2002). \"Nixon Rides the Backlash to Victory: Racial Politics in the 1968 Presidential Campaign\". Historian. 64 (3): 351–366. doi:10.1111/j.1540-6563.2002.tb01487.x. S2CID 143272460.\n",
      "Nelson, Michael. Resilient America: Electing Nixon in 1968, Channeling Dissent, and Dividing Government (University Press of Kansas; 2014) 360 pages\n",
      "Nelson, Michael. \"The Historical Presidency: Lost Confidence: The Democratic Party, the Vietnam War, and the 1968 Election.\" Presidential Studies Quarterly 48.3 (2018): 570–585.\n",
      "O'Mara, Margaret. Pivotal Tuesdays: Four Elections That Shaped the Twentieth Century (2015), compares 1912, 1932, 1968, 1992 in terms of social, economic, and political history\n",
      "Richardson, Darcy G. (2002). A Nation Divided: The 1968 Presidential Campaign. ISBN 978-0-595-23699-2.\n",
      "Rising, George (1997). Clean for Gene: Eugene McCarthy's 1968 Presidential Campaign. Praeger Publishers. ISBN 978-0-275-95841-1.\n",
      "Savage, Sean J. (2004). JFK, LBJ, and the Democratic Party. SUNY Albany Press. ISBN 978-0-7914-6169-3.\n",
      "Schlesinger Jr., Arthur M. (1978). Robert Kennedy and His Times. Houghton Mifflin. ISBN 978-0-395-24897-3.\n",
      "Schumacher, Michael. The Contest: The 1968 Election and the War for America's Soul (U of Minnesota Press, 2018) 540 pp. online review\n",
      "Shesol, Jeff. Mutual Contempt: Lyndon Johnson, Robert Kennedy, and the Feud that Defined a Decade (1997)\n",
      "Small, Melvin. \"The Election of 1968\", Diplomatic History (2004) 28#4 pp 513–528, on foreign-policy issues online\n",
      "Solberg, Carl. Hubert Humphrey (2003), scholarly biography excerpt and text search\n",
      "Time. \"Wallace's Army: The Coalition Of Frustration\", Time October 18, 1968\n",
      "Unger, Irwin; Unger, Debi (1988). Turning Point: 1968. Scribner's. ISBN 978-0-684-18696-2.\n",
      "Woods, Randall. LBJ: Architect of American Ambition (2006)\n",
      "\n",
      "Primary sources\n",
      "Gallup, George H., ed. The Gallup Poll: Public Opinion, 1935–1971. 3 vols. Random House, 1972. press releases;\n",
      "Humphrey, Hubert H. (1976). The Education of a Public Man: My Life and Politics. Doubleday. ISBN 978-0-8166-1897-2.\n",
      "McCarthy, Eugene. The Year of the People (1969), memoir\n",
      "McGinniss, Joe (1969). The Selling of the President 1968. Trident Press. ISBN 978-0-671-82249-1.; firsthand reporting\n",
      "Nixon, Richard M. (1978). RN: The Memoirs of Richard Nixon. ISBN 978-0-671-70741-5. online\n",
      "White, Theodore H. (1969). The Making of the President—1968. Atheneum. ISBN 978-0-224-61796-3., famous report by American journalist\n",
      "Chester, Edward W A guide to political platforms (1977) online\n",
      "Porter, Kirk H., and Donald Bruce Johnson, eds. National party platforms, 1840-1972 (1973)\n",
      "\n",
      "External links\n",
      "The Election Wall's 1968 Election Video Page\n",
      "1968 popular vote by counties\n",
      "1968 popular vote by states\n",
      "1968 popular vote by states (with bar graphs)\n",
      "Campaign commercials from the 1968 election\n",
      "How close was the 1968 election? at the Wayback Machine (archived August 25, 2012) — Michael Sheppard, Massachusetts Institute of Technology\n",
      "\"LBJ Tapes Implicate Nixon With Treason\". ABC News. December 5, 2008, (video).\n",
      "Election of 1968 in Counting the Votes\n"
     ]
    }
   ],
   "source": [
    "print (wiki_wiki.page('1968 United States presidential election').text)\n"
   ]
  },
  {
   "cell_type": "code",
   "execution_count": 196,
   "id": "8ff137da",
   "metadata": {},
   "outputs": [
    {
     "data": {
      "text/plain": [
       "['Salman Khan',\n",
       " 'Salman Khan filmography',\n",
       " 'Salman Khan Films',\n",
       " 'Sal Khan',\n",
       " 'Khan Academy',\n",
       " 'Radhe (2021 film)',\n",
       " 'Sultan (2016 film)',\n",
       " 'Salim Khan family',\n",
       " 'Arbaaz Khan',\n",
       " 'Sohail Khan']"
      ]
     },
     "execution_count": 196,
     "metadata": {},
     "output_type": "execute_result"
    }
   ],
   "source": [
    "wikipedia.search('salman khan',results=10)\n"
   ]
  },
  {
   "cell_type": "code",
   "execution_count": 197,
   "id": "c2836c27",
   "metadata": {},
   "outputs": [],
   "source": [
    "my_file ={\"Title\":[],\"Description\":[]}\n",
    "for items in wikipedia.search('salman khan',results=10):\n",
    "    my_file[\"Title\"].append(items)\n",
    "    my_file[\"Description\"].append(wiki_wiki.page(items).summary)\n",
    "                                  "
   ]
  },
  {
   "cell_type": "code",
   "execution_count": 198,
   "id": "f3c5ba63",
   "metadata": {},
   "outputs": [
    {
     "data": {
      "text/plain": [
       "{'Title': ['Salman Khan',\n",
       "  'Salman Khan filmography',\n",
       "  'Salman Khan Films',\n",
       "  'Sal Khan',\n",
       "  'Khan Academy',\n",
       "  'Radhe (2021 film)',\n",
       "  'Sultan (2016 film)',\n",
       "  'Salim Khan family',\n",
       "  'Arbaaz Khan',\n",
       "  'Sohail Khan'],\n",
       " 'Description': [\"Abdul Rashid Salim Salman Khan (Hindi: [səlˈmɑːn xɑːn]; 27 December 1965) is an Indian actor, film producer, and television personality who works in Hindi films. In a film career spanning over thirty years, Khan has received numerous awards, including two National Film Awards as a film producer, and two Filmfare Awards for acting. He is cited in the media as one of the most commercially successful actors of Indian cinema. Forbes included him in their 2015 list of Top-Paid 100 Celebrity Entertainers in the world; Khan tied with Amitabh Bachchan for No. 71 on the list, both with earnings of $33.5 million. According to the Forbes 2018 list of Top-Paid 100 Celebrity Entertainers in world, Khan was the highest-ranked Indian with 82nd rank with earnings of $37.7 million. He is also known as the host of the reality show, Bigg Boss since 2010.The eldest son of screenwriter Salim Khan, Khan began his acting career with a supporting role in Biwi Ho To Aisi (1988), followed by a leading role in Maine Pyar Kiya (1989). Khan continued in Bollywood in the 1990s with roles in several productions, including the romantic drama Hum Aapke Hain Koun..! (1994), the action comedy Andaz Apna Apna (1994), the action thriller Karan Arjun (1995), the comedy Biwi No.1 (1999), and the family drama Hum Saath-Saath Hain (1999). After a brief period of decline in the 2000s, Khan achieved greater stardom in the 2010s by playing the lead role in successful action films like Dabangg (2010), Ready (2011), Ek Tha Tiger (2012), Kick (2014), Sultan (2016) and Tiger Zinda Hai (2017).\\nIn addition to his acting career, Khan is a television presenter and promotes humanitarian causes through his charity, Being Human Foundation. Khan's off-screen life is marred by controversy and legal troubles. In 2015 he was convicted of culpable homicide for a negligent driving case in which he ran over five people with his car, killing one, but his conviction was set aside on appeal. On 5 April 2018, Khan was convicted in a blackbuck poaching case and sentenced to five years imprisonment. He is currently out on bail while an appeal is being heard.Khan has starred in ten of the highest grossers of the year, starting from 1947 to 2020, which is highest for any actor in history of Hindi cinema.\",\n",
       "  \"Salman Khan is an Indian actor, singer, writer, film producer and television personality known for his work in Hindi films. Khan made his debut in 1988 with a supporting role in the family drama Biwi Ho To Aisi, following which he had his breakthrough role in Sooraj Barjatya's blockbuster romance Maine Pyar Kiya (1989), for which he earned a nomination for the Filmfare Award for Best Actor. During the early 1990s, Khan starred in the action drama Baaghi: A Rebel for Love (1990), the action film Patthar Ke Phool (1991), and the romance Saajan (1991), all of which were financially successful. However, his other releases during this period, including Suryavanshi (1992), Jaagruti (1992), and Dil Tera Aashiq (1993), failed commercially, resulting in a brief setback in his career.In 1994, Khan featured in the Barjatya-directed family drama Hum Aapke Hain Koun..!, which proved to be the highest-grossing Bollywood film to that point; the success of the film established his career in Bollywood. Also that year, he featured alongside Aamir Khan in the comedy Andaz Apna Apna, which despite being a box-office Average has developed a cult status in India. Khan went on to play with Shah Rukh Khan in Rakesh Roshan's melodramatic thriller Karan Arjun (1995), which emerged as the year's second highest-grossing Hindi film. In 1998, Khan featured in Sohail Khan's Pyaar Kiya To Darna Kya, and appeared briefly in the romantic drama Kuch Kuch Hota Hai, both of which ranked among the top-earning Bollywood productions of 1998. For the latter, he was awarded the Filmfare Award for Best Supporting Actor.\\nIn 1999, he starred in three commercially successful productions: the comedy Biwi No.1, the romance Hum Dil De Chuke Sanam, and the family drama Hum Saath-Saath Hain. His next roles were in the romantic dramas Har Dil Jo Pyar Karega (2000) and Chori Chori Chupke Chupke (2001), both opposite Rani Mukerji and Preity Zinta. In 2003, Khan earned praise for playing a scorned lover in the romantic film Tere Naam, and made a brief appearance in the family drama Baghban. He went on to play the lead in the top-grossing comedies Mujhse Shaadi Karogi (2004), No Entry (2005) and Partner (2007). Khan made his television debut by hosting two seasons of the game show 10 Ka Dum (2008–09). Following a series of commercial failures from 2006 to 2008, he starred in the action thriller Wanted (2009), a box-office hit. Greater commercial success followed with Dabangg (2010), and Khan featured as the host of the television game show Bigg Boss, going on to host nine more seasons of the show.\\nIn 2011, Khan produced the children's film Chillar Party under his production company Salman Khan Being Human Productions, which won him the National Film Award for Best Children's Film. Also that year, he starred in two of the highest-grossing films of the year—the action-comedy film Ready with Asin Thottumkal and the action drama Bodyguard with Kareena Kapoor Khan. Khan followed these with roles in a number of top-grossing films that made him the first actor with nine films grossing over ₹1 billion at the box-office. These include a role in Bajrangi Bhaijaan, he was nominated for the Filmfare Award for Best Actor, becoming the most nominated actor in the category without ever winning. As a producer of the film, Khan won a National Film Award for Best Popular Film Providing Wholesome Entertainment. Sultan (2016) followed, a sports drama about the life of the eponymous fictional wrestling champion. Khan then co-starred with Katrina Kaif in two top-grossing productions—the action sequel Tiger Zinda Hai (2017) and the drama Bharat (2019). His film Radhe (2021) was released to negative reviews.\",\n",
       "  'Salman Khan Films (SKF) is an Indian film production and distribution company established by Bollywood actor Salman Khan in 2011. Based in Mumbai, it mainly produces and distributes Hindi films.',\n",
       "  'Salman Amin Khan (born October 11, 1976), commonly known as Sal Khan, is an American educator and the founder of Khan Academy, a free online non-profit educational platform and an organization with which he has produced over 6,500 video lessons teaching a wide spectrum of academic subjects, originally focusing on mathematics and science. He is also the founder of Khan Lab School, a brick-and-mortar private school in Mountain View, California.As of December 2021, the Khan Academy channel on YouTube has 7.02 million subscribers, and its videos have been viewed more than 1.92 billion times. In 2012, Time named Khan in its annual list of the 100 most influential people in the world. In the same year, Forbes magazine featured Khan on its cover, with the story \"$1 Trillion Opportunity.\"',\n",
       "  'Khan Academy is an American non-profit educational organization created in 2008 by Sal Khan. Its goal is creating a set of online tools that help educate students. The organization produces short lessons in the form of videos. Its website also includes supplementary practice exercises and materials for educators. It has produced over 8,000 video lessons teaching a wide spectrum of academic subjects, originally focusing on mathematics and sciences. All resources are available for free to users of the website and application.\\nAs of 2018, over 70 million people use Khan Academy, out of which 2.3 million students use it to prepare for SAT. As of February 2022, the Khan Academy channel on YouTube has 7.11 million subscribers and Khan Academy videos have been viewed more than 1.94 billion times.',\n",
       "  \"Radhe: Your Most Wanted Bhai is a 2021 Indian Hindi-language action thriller film directed by Prabhu Deva and produced by Salman Khan, Sohail Khan, Atul Agnihotri and Zee Studios. The core plot of the film is based on the 2017 South Korean film The Outlaws. The film stars Salman Khan, Disha Patani, Randeep Hooda and Jackie Shroff in lead roles, while Pravin Tarde, Sangay Tsheltrim, Sudhanshu Pandey, Megha Akash, Arjun Kanungo and Gautam Gulati appear in supporting roles. The film was announced in October 2019, with principal photography begins in November 2019 and ends in October 2020. \\nRadhe was originally scheduled to release theatrically on 22 May 2020, but was postponed indefinitely due to the COVID-19 pandemic. The film was finally released on 13 May 2021, coinciding with Eid al-Fitr, as premium video on demand on Zee Plex through ZEE5 in India, with a theatrical release overseas. Radhe received highly negative reviews from critics and audiences alike, who criticized the story, screenplay, direction, unoriginality, the leads' performances and chemistry, action sequences, VFX, toxic masculinity and police brutality, though Hooda's performance has been praised. Publications like The Indian Express listed Radhe as one of the worst Indian films of 2021.\",\n",
       "  'Sultan (transl.\\u2009King) is a 2016 Indian Hindi-language sports drama film directed by Ali Abbas Zafar. Produced by Aditya Chopra under the Yash Raj Films banner, the film stars Salman Khan as the title character opposite Anushka Sharma. The film focuses on Sultan Ali Khan, a fictional pehlwani wrestler and former world wrestling champion from Haryana whose successful career has created a rift in his personal life.The film was released worldwide on 6 July 2016. It has grossed ₹623.33 crore ($93 million) worldwide, and is one of the highest-grossing Indian films ever.',\n",
       "  \"The Salim Khan family refers to the family of Salim Khan which is a prominent Indian show business family, and is one of the prominent Bollywood film clans. Multiple members of the family have been actors, screenwriters, film directors and producers in the Hindi film industry of India. Salim, one half of the duo Salim–Javed, is one of the most famous screenwriters in the history of Indian cinema. His son, actor Salman Khan, has been the prominent face of the family since the 1990s, as one of the biggest Bollywood movie stars in history of Indian cinema.\\nSalim was born in 1935 in Indore in the Central Provinces and Berar in British India. His father was an immigrant from Afghanistan who migrated and settled in Indore (now in Madhya Pradesh). The family also has roots in Jammu and Kashmir, from the father of Salma Khan (born Sushila Charak), Salim's first wife. Some members of the family also have roots in Kerala (ex-wife of Arbaaz Khan Malaika Arora), Punjab (Atul Agnihotri, Seema Sachdev) and Burma (Helen).\",\n",
       "  'Arbaaz Khan  (born 4 August 1967) is an Indian actor, film director and film producer who predominantly works in Hindi language films. He has also acted in a few Urdu, Telugu and Malayalam language films as well as television series.Since making his debut in 1996, he has acted in many leading and supporting roles. He ventured into film production in Bollywood film industry, with Arbaaz Khan Productions, launched with Dabangg (2010), in which he starred as the younger brother of his real-life brother Salman Khan. The film went on to become one of the highest-grossing Bollywood films of all time. He also won the National Film Award for Best Popular Film Providing Wholesome Entertainment for the same. He also hosted the reality show Power Couple, which aired on Sony TV. In 2019, Khan made his digital debut with crime-thriller web series Poison.',\n",
       "  'Sohail Salim Abdul Rashid Khan (born 20 December 1970) is an Indian actor, writer, film director and producer who works mainly in Hindi cinema. He is the younger brother of actors Salman Khan and Arbaaz Khan. He has an elder sister, Alvira Khan Agnihotri. He produces films under his banner Sohail Khan Productions.']}"
      ]
     },
     "execution_count": 198,
     "metadata": {},
     "output_type": "execute_result"
    }
   ],
   "source": [
    "my_file"
   ]
  },
  {
   "cell_type": "code",
   "execution_count": 199,
   "id": "dfb0caa2",
   "metadata": {},
   "outputs": [],
   "source": [
    "import pandas as pd"
   ]
  },
  {
   "cell_type": "code",
   "execution_count": 200,
   "id": "785c9a52",
   "metadata": {},
   "outputs": [],
   "source": [
    "df = pd.DataFrame(my_file)"
   ]
  },
  {
   "cell_type": "code",
   "execution_count": 201,
   "id": "f2642532",
   "metadata": {},
   "outputs": [
    {
     "data": {
      "text/html": [
       "<div>\n",
       "<style scoped>\n",
       "    .dataframe tbody tr th:only-of-type {\n",
       "        vertical-align: middle;\n",
       "    }\n",
       "\n",
       "    .dataframe tbody tr th {\n",
       "        vertical-align: top;\n",
       "    }\n",
       "\n",
       "    .dataframe thead th {\n",
       "        text-align: right;\n",
       "    }\n",
       "</style>\n",
       "<table border=\"1\" class=\"dataframe\">\n",
       "  <thead>\n",
       "    <tr style=\"text-align: right;\">\n",
       "      <th></th>\n",
       "      <th>Title</th>\n",
       "      <th>Description</th>\n",
       "    </tr>\n",
       "  </thead>\n",
       "  <tbody>\n",
       "    <tr>\n",
       "      <th>0</th>\n",
       "      <td>Salman Khan</td>\n",
       "      <td>Abdul Rashid Salim Salman Khan (Hindi: [səlˈmɑ...</td>\n",
       "    </tr>\n",
       "    <tr>\n",
       "      <th>1</th>\n",
       "      <td>Salman Khan filmography</td>\n",
       "      <td>Salman Khan is an Indian actor, singer, writer...</td>\n",
       "    </tr>\n",
       "    <tr>\n",
       "      <th>2</th>\n",
       "      <td>Salman Khan Films</td>\n",
       "      <td>Salman Khan Films (SKF) is an Indian film prod...</td>\n",
       "    </tr>\n",
       "    <tr>\n",
       "      <th>3</th>\n",
       "      <td>Sal Khan</td>\n",
       "      <td>Salman Amin Khan (born October 11, 1976), comm...</td>\n",
       "    </tr>\n",
       "    <tr>\n",
       "      <th>4</th>\n",
       "      <td>Khan Academy</td>\n",
       "      <td>Khan Academy is an American non-profit educati...</td>\n",
       "    </tr>\n",
       "  </tbody>\n",
       "</table>\n",
       "</div>"
      ],
      "text/plain": [
       "                     Title                                        Description\n",
       "0              Salman Khan  Abdul Rashid Salim Salman Khan (Hindi: [səlˈmɑ...\n",
       "1  Salman Khan filmography  Salman Khan is an Indian actor, singer, writer...\n",
       "2        Salman Khan Films  Salman Khan Films (SKF) is an Indian film prod...\n",
       "3                 Sal Khan  Salman Amin Khan (born October 11, 1976), comm...\n",
       "4             Khan Academy  Khan Academy is an American non-profit educati..."
      ]
     },
     "execution_count": 201,
     "metadata": {},
     "output_type": "execute_result"
    }
   ],
   "source": [
    "df.head()"
   ]
  },
  {
   "cell_type": "code",
   "execution_count": 202,
   "id": "d5068168",
   "metadata": {},
   "outputs": [
    {
     "data": {
      "text/plain": [
       "Title          object\n",
       "Description    object\n",
       "dtype: object"
      ]
     },
     "execution_count": 202,
     "metadata": {},
     "output_type": "execute_result"
    }
   ],
   "source": [
    "df.dtypes"
   ]
  },
  {
   "cell_type": "code",
   "execution_count": 203,
   "id": "91633d8a",
   "metadata": {},
   "outputs": [
    {
     "data": {
      "text/plain": [
       "'Salman Khan'"
      ]
     },
     "execution_count": 203,
     "metadata": {},
     "output_type": "execute_result"
    }
   ],
   "source": [
    "df[\"Title\"][0]"
   ]
  },
  {
   "cell_type": "code",
   "execution_count": 204,
   "id": "6dbcc782",
   "metadata": {},
   "outputs": [],
   "source": [
    "import re"
   ]
  },
  {
   "cell_type": "code",
   "execution_count": 205,
   "id": "eb0941c4",
   "metadata": {},
   "outputs": [],
   "source": [
    "for i in df[\"Title\"]:\n",
    "    i= re.sub(r'[^\\w\\s]',\"\",i)"
   ]
  },
  {
   "cell_type": "code",
   "execution_count": 206,
   "id": "582090de",
   "metadata": {},
   "outputs": [
    {
     "data": {
      "text/plain": [
       "0                Salman Khan\n",
       "1    Salman Khan filmography\n",
       "2          Salman Khan Films\n",
       "3                   Sal Khan\n",
       "4               Khan Academy\n",
       "5          Radhe (2021 film)\n",
       "6         Sultan (2016 film)\n",
       "7          Salim Khan family\n",
       "8                Arbaaz Khan\n",
       "9                Sohail Khan\n",
       "Name: Title, dtype: object"
      ]
     },
     "execution_count": 206,
     "metadata": {},
     "output_type": "execute_result"
    }
   ],
   "source": [
    "df[\"Title\"]"
   ]
  },
  {
   "cell_type": "code",
   "execution_count": 207,
   "id": "ee7e6a7a",
   "metadata": {},
   "outputs": [],
   "source": [
    "for i in df[\"Description\"]:\n",
    "    i= re.sub(r'[^\\w\\s]',\"\",i)"
   ]
  },
  {
   "cell_type": "code",
   "execution_count": 208,
   "id": "c0c0788a",
   "metadata": {},
   "outputs": [
    {
     "data": {
      "text/plain": [
       "0    Abdul Rashid Salim Salman Khan (Hindi: [səlˈmɑ...\n",
       "1    Salman Khan is an Indian actor, singer, writer...\n",
       "2    Salman Khan Films (SKF) is an Indian film prod...\n",
       "3    Salman Amin Khan (born October 11, 1976), comm...\n",
       "4    Khan Academy is an American non-profit educati...\n",
       "5    Radhe: Your Most Wanted Bhai is a 2021 Indian ...\n",
       "6    Sultan (transl. King) is a 2016 Indian Hindi-l...\n",
       "7    The Salim Khan family refers to the family of ...\n",
       "8    Arbaaz Khan  (born 4 August 1967) is an Indian...\n",
       "9    Sohail Salim Abdul Rashid Khan (born 20 Decemb...\n",
       "Name: Description, dtype: object"
      ]
     },
     "execution_count": 208,
     "metadata": {},
     "output_type": "execute_result"
    }
   ],
   "source": [
    "df[\"Description\"]"
   ]
  },
  {
   "cell_type": "code",
   "execution_count": 209,
   "id": "ae1f1735",
   "metadata": {
    "scrolled": true
   },
   "outputs": [
    {
     "name": "stdout",
     "output_type": "stream",
     "text": [
      "showing info https://raw.githubusercontent.com/nltk/nltk_data/gh-pages/index.xml\n"
     ]
    },
    {
     "data": {
      "text/plain": [
       "True"
      ]
     },
     "execution_count": 209,
     "metadata": {},
     "output_type": "execute_result"
    }
   ],
   "source": [
    "import nltk\n",
    "nltk.download()"
   ]
  },
  {
   "cell_type": "code",
   "execution_count": 210,
   "id": "9c768f1e",
   "metadata": {},
   "outputs": [],
   "source": [
    "from nltk.tokenize import word_tokenize, sent_tokenize\n"
   ]
  },
  {
   "cell_type": "code",
   "execution_count": 211,
   "id": "28e7b133",
   "metadata": {},
   "outputs": [],
   "source": [
    "entities=[]\n",
    "labels =[]\n",
    "\n",
    "for i in range(10):\n",
    "    sentence = nltk.sent_tokenize(df[\"Description\"][i])\n",
    "    for sent in sentence:\n",
    "        for chunk in nltk.ne_chunk(nltk.pos_tag(nltk.word_tokenize(sent)), binary=False):\n",
    "            if hasattr(chunk, 'label'):\n",
    "                entities.append(''.join(c[0] for c in chunk))\n",
    "                labels.append(chunk.label())\n",
    "            "
   ]
  },
  {
   "cell_type": "code",
   "execution_count": 212,
   "id": "21d52f98",
   "metadata": {},
   "outputs": [],
   "source": [
    "entities_labels = list(set(zip(entities,labels)))"
   ]
  },
  {
   "cell_type": "code",
   "execution_count": 213,
   "id": "1dce9855",
   "metadata": {
    "scrolled": false
   },
   "outputs": [
    {
     "data": {
      "text/plain": [
       "[('Baghban', 'GPE'),\n",
       " ('Time', 'PERSON'),\n",
       " ('Partner', 'GPE'),\n",
       " ('SalimKhan', 'ORGANIZATION'),\n",
       " ('NoEntry', 'ORGANIZATION'),\n",
       " ('KhanAcademy', 'ORGANIZATION'),\n",
       " ('BeingHuman', 'PERSON'),\n",
       " ('SohailKhan', 'PERSON'),\n",
       " ('Ready', 'PERSON'),\n",
       " ('SAT', 'ORGANIZATION'),\n",
       " ('Korean', 'LOCATION'),\n",
       " ('Hindi', 'ORGANIZATION'),\n",
       " ('SalimKhan', 'PERSON'),\n",
       " ('SalKhan', 'PERSON'),\n",
       " ('SushilaCharak', 'PERSON'),\n",
       " ('SalimAbdulRashidKhan', 'PERSON'),\n",
       " ('SalmanKhanBeingHumanProductions', 'PERSON'),\n",
       " ('Haryana', 'GPE'),\n",
       " ('ArbaazKhanMalaikaArora', 'PERSON'),\n",
       " ('Bollywood', 'GPE'),\n",
       " ('Love', 'GPE'),\n",
       " ('American', 'GPE'),\n",
       " ('Bhai', 'GPE'),\n",
       " ('Abdul', 'PERSON'),\n",
       " ('ZEE5', 'ORGANIZATION'),\n",
       " ('Rakesh', 'GPE'),\n",
       " ('Roshan', 'PERSON'),\n",
       " ('Salim', 'PERSON'),\n",
       " ('ChoriChoriChupkeChupke', 'PERSON'),\n",
       " ('BestSupportingActor', 'PERSON'),\n",
       " ('PattharKePhool', 'PERSON'),\n",
       " ('AsinThottumkal', 'PERSON'),\n",
       " ('VFX', 'ORGANIZATION'),\n",
       " ('HumAapkeHainKoun', 'PERSON'),\n",
       " ('Kashmir', 'PERSON'),\n",
       " ('ArbaazKhan', 'PERSON'),\n",
       " ('Khan', 'PERSON'),\n",
       " ('NationalFilmAwards', 'ORGANIZATION'),\n",
       " ('ShahRukhKhan', 'PERSON'),\n",
       " ('RaniMukerji', 'PERSON'),\n",
       " ('CelebrityEntertainers', 'ORGANIZATION'),\n",
       " ('SKF', 'ORGANIZATION'),\n",
       " ('Saajan', 'GPE'),\n",
       " ('AdityaChopra', 'PERSON'),\n",
       " ('Jaagruti', 'GPE'),\n",
       " ('AminKhan', 'PERSON'),\n",
       " ('India', 'GPE'),\n",
       " ('YouTube', 'ORGANIZATION'),\n",
       " ('Biwi', 'GPE'),\n",
       " ('SalmaKhan', 'PERSON'),\n",
       " ('BestPopularFilm', 'PERSON'),\n",
       " ('Radhe', 'GPE'),\n",
       " ('Indian', 'GPE'),\n",
       " ('Mumbai', 'GPE'),\n",
       " ('AndazApnaApna', 'PERSON'),\n",
       " ('AtulAgnihotri', 'ORGANIZATION'),\n",
       " ('MainePyarKiya', 'PERSON'),\n",
       " ('Greater', 'GPE'),\n",
       " ('AnushkaSharma', 'PERSON'),\n",
       " ('Eid', 'PERSON'),\n",
       " ('SangayTsheltrim', 'PERSON'),\n",
       " ('Suryavanshi', 'GPE'),\n",
       " ('BajrangiBhaijaan', 'GPE'),\n",
       " ('BritishIndia', 'GPE'),\n",
       " ('SohailKhan', 'GPE'),\n",
       " ('AtulAgnihotri', 'PERSON'),\n",
       " ('KhanLabSchool', 'PERSON'),\n",
       " ('NationalFilmAward', 'ORGANIZATION'),\n",
       " ('Ready', 'GPE'),\n",
       " ('Khan', 'ORGANIZATION'),\n",
       " ('Telugu', 'GPE'),\n",
       " ('Hum', 'PERSON'),\n",
       " ('AlviraKhanAgnihotri', 'PERSON'),\n",
       " ('Dabangg', 'GPE'),\n",
       " ('Forbes', 'ORGANIZATION'),\n",
       " ('Punjab', 'GPE'),\n",
       " ('EkThaTiger', 'PERSON'),\n",
       " ('Burma', 'GPE'),\n",
       " ('CentralProvinces', 'ORGANIZATION'),\n",
       " ('Hindi', 'GPE'),\n",
       " ('TigerZindaHai', 'PERSON'),\n",
       " ('Poison', 'PERSON'),\n",
       " ('KareenaKapoorKhan', 'PERSON'),\n",
       " ('SalmanKhan', 'PERSON'),\n",
       " ('Salim', 'GPE'),\n",
       " ('Forbes', 'PERSON'),\n",
       " ('Kerala', 'GPE'),\n",
       " ('No', 'ORGANIZATION'),\n",
       " ('MeghaAkash', 'PERSON'),\n",
       " ('Sony', 'GPE'),\n",
       " ('ArjunKanungo', 'PERSON'),\n",
       " ('DilTeraAashiq', 'PERSON'),\n",
       " ('JackieShroff', 'PERSON'),\n",
       " ('Bharat', 'GPE'),\n",
       " ('KuchKuchHotaHai', 'PERSON'),\n",
       " ('TereNaam', 'PERSON'),\n",
       " ('Biwi', 'PERSON'),\n",
       " ('Baaghi', 'PERSON'),\n",
       " ('SultanAliKhan', 'PERSON'),\n",
       " ('SudhanshuPandey', 'PERSON'),\n",
       " ('RashidSalimSalmanKhan', 'PERSON'),\n",
       " ('Hooda', 'PERSON'),\n",
       " ('Aisi', 'GPE'),\n",
       " ('AmitabhBachchan', 'PERSON'),\n",
       " ('DarnaKya', 'PERSON'),\n",
       " ('KaranArjun', 'PERSON'),\n",
       " ('Outlaws', 'ORGANIZATION'),\n",
       " ('HumDilDeChukeSanam', 'PERSON'),\n",
       " ('Malayalam', 'GPE'),\n",
       " ('BiggBoss', 'PERSON'),\n",
       " ('Arbaaz', 'PERSON'),\n",
       " ('MujhseShaadiKarogi', 'PERSON'),\n",
       " ('PyaarKiya', 'PERSON'),\n",
       " ('PravinTarde', 'PERSON'),\n",
       " ('Bollywood', 'PERSON'),\n",
       " ('Sohail', 'PERSON'),\n",
       " ('BiwiNo.1', 'PERSON'),\n",
       " ('BestActor', 'PERSON'),\n",
       " ('DishaPatani', 'PERSON'),\n",
       " ('HarDilJoPyarKarega', 'PERSON'),\n",
       " ('BiwiHo', 'PERSON'),\n",
       " ('Madhya', 'GPE'),\n",
       " ('SeemaSachdev', 'PERSON'),\n",
       " ('FilmfareAward', 'ORGANIZATION'),\n",
       " ('PrabhuDeva', 'PERSON'),\n",
       " ('Maine', 'GPE'),\n",
       " ('PowerCouple', 'PERSON'),\n",
       " ('Salman', 'PERSON'),\n",
       " ('GautamGulati', 'PERSON'),\n",
       " ('AliAbbasZafar', 'PERSON'),\n",
       " ('SoorajBarjatya', 'GPE'),\n",
       " ('Kick', 'GPE'),\n",
       " ('SohailKhanProductions', 'PERSON'),\n",
       " ('BestChildren', 'PERSON'),\n",
       " ('Bodyguard', 'PERSON'),\n",
       " ('KatrinaKaif', 'PERSON'),\n",
       " ('RandeepHooda', 'PERSON'),\n",
       " ('KhanAcademy', 'PERSON'),\n",
       " ('Sultan', 'GPE'),\n",
       " ('Afghanistan', 'GPE'),\n",
       " ('Berar', 'PERSON'),\n",
       " ('Jammu', 'GPE'),\n",
       " ('ArbaazKhanProductions', 'PERSON'),\n",
       " ('ChillarParty', 'PERSON'),\n",
       " ('ZeePlex', 'PERSON'),\n",
       " ('Wanted', 'GPE'),\n",
       " ('Academy', 'ORGANIZATION'),\n",
       " ('YashRajFilms', 'ORGANIZATION'),\n",
       " ('ZeeStudios', 'PERSON'),\n",
       " ('KhanFilms', 'PERSON'),\n",
       " ('Radhe', 'PERSON'),\n",
       " ('Indore', 'GPE'),\n",
       " ('MountainView', 'GPE'),\n",
       " ('FilmfareAwards', 'ORGANIZATION'),\n",
       " ('South', 'GPE'),\n",
       " ('AamirKhan', 'PERSON')]"
      ]
     },
     "execution_count": 213,
     "metadata": {},
     "output_type": "execute_result"
    }
   ],
   "source": [
    "entities_labels"
   ]
  },
  {
   "cell_type": "code",
   "execution_count": 214,
   "id": "06c9d752",
   "metadata": {},
   "outputs": [],
   "source": [
    "entities_df = pd.DataFrame(entities_labels,columns=[\"Entities\",\"Labels\"])"
   ]
  },
  {
   "cell_type": "code",
   "execution_count": 215,
   "id": "40ca5db5",
   "metadata": {},
   "outputs": [
    {
     "data": {
      "text/html": [
       "<div>\n",
       "<style scoped>\n",
       "    .dataframe tbody tr th:only-of-type {\n",
       "        vertical-align: middle;\n",
       "    }\n",
       "\n",
       "    .dataframe tbody tr th {\n",
       "        vertical-align: top;\n",
       "    }\n",
       "\n",
       "    .dataframe thead th {\n",
       "        text-align: right;\n",
       "    }\n",
       "</style>\n",
       "<table border=\"1\" class=\"dataframe\">\n",
       "  <thead>\n",
       "    <tr style=\"text-align: right;\">\n",
       "      <th></th>\n",
       "      <th>Entities</th>\n",
       "      <th>Labels</th>\n",
       "    </tr>\n",
       "  </thead>\n",
       "  <tbody>\n",
       "    <tr>\n",
       "      <th>0</th>\n",
       "      <td>Baghban</td>\n",
       "      <td>GPE</td>\n",
       "    </tr>\n",
       "    <tr>\n",
       "      <th>1</th>\n",
       "      <td>Time</td>\n",
       "      <td>PERSON</td>\n",
       "    </tr>\n",
       "    <tr>\n",
       "      <th>2</th>\n",
       "      <td>Partner</td>\n",
       "      <td>GPE</td>\n",
       "    </tr>\n",
       "    <tr>\n",
       "      <th>3</th>\n",
       "      <td>SalimKhan</td>\n",
       "      <td>ORGANIZATION</td>\n",
       "    </tr>\n",
       "    <tr>\n",
       "      <th>4</th>\n",
       "      <td>NoEntry</td>\n",
       "      <td>ORGANIZATION</td>\n",
       "    </tr>\n",
       "    <tr>\n",
       "      <th>...</th>\n",
       "      <td>...</td>\n",
       "      <td>...</td>\n",
       "    </tr>\n",
       "    <tr>\n",
       "      <th>151</th>\n",
       "      <td>Indore</td>\n",
       "      <td>GPE</td>\n",
       "    </tr>\n",
       "    <tr>\n",
       "      <th>152</th>\n",
       "      <td>MountainView</td>\n",
       "      <td>GPE</td>\n",
       "    </tr>\n",
       "    <tr>\n",
       "      <th>153</th>\n",
       "      <td>FilmfareAwards</td>\n",
       "      <td>ORGANIZATION</td>\n",
       "    </tr>\n",
       "    <tr>\n",
       "      <th>154</th>\n",
       "      <td>South</td>\n",
       "      <td>GPE</td>\n",
       "    </tr>\n",
       "    <tr>\n",
       "      <th>155</th>\n",
       "      <td>AamirKhan</td>\n",
       "      <td>PERSON</td>\n",
       "    </tr>\n",
       "  </tbody>\n",
       "</table>\n",
       "<p>156 rows × 2 columns</p>\n",
       "</div>"
      ],
      "text/plain": [
       "           Entities        Labels\n",
       "0           Baghban           GPE\n",
       "1              Time        PERSON\n",
       "2           Partner           GPE\n",
       "3         SalimKhan  ORGANIZATION\n",
       "4           NoEntry  ORGANIZATION\n",
       "..              ...           ...\n",
       "151          Indore           GPE\n",
       "152    MountainView           GPE\n",
       "153  FilmfareAwards  ORGANIZATION\n",
       "154           South           GPE\n",
       "155       AamirKhan        PERSON\n",
       "\n",
       "[156 rows x 2 columns]"
      ]
     },
     "execution_count": 215,
     "metadata": {},
     "output_type": "execute_result"
    }
   ],
   "source": [
    "entities_df"
   ]
  },
  {
   "cell_type": "code",
   "execution_count": 218,
   "id": "c42e8b30",
   "metadata": {},
   "outputs": [
    {
     "data": {
      "text/plain": [
       "PERSON          90\n",
       "GPE             43\n",
       "ORGANIZATION    22\n",
       "LOCATION         1\n",
       "Name: Labels, dtype: int64"
      ]
     },
     "execution_count": 218,
     "metadata": {},
     "output_type": "execute_result"
    }
   ],
   "source": [
    "label count = entities_df['Labels'].value_counts()"
   ]
  },
  {
   "cell_type": "code",
   "execution_count": 219,
   "id": "b9e58cae",
   "metadata": {},
   "outputs": [
    {
     "data": {
      "text/html": [
       "<div>\n",
       "<style scoped>\n",
       "    .dataframe tbody tr th:only-of-type {\n",
       "        vertical-align: middle;\n",
       "    }\n",
       "\n",
       "    .dataframe tbody tr th {\n",
       "        vertical-align: top;\n",
       "    }\n",
       "\n",
       "    .dataframe thead th {\n",
       "        text-align: right;\n",
       "    }\n",
       "</style>\n",
       "<table border=\"1\" class=\"dataframe\">\n",
       "  <thead>\n",
       "    <tr style=\"text-align: right;\">\n",
       "      <th></th>\n",
       "      <th>Entities</th>\n",
       "      <th>Labels</th>\n",
       "    </tr>\n",
       "  </thead>\n",
       "  <tbody>\n",
       "    <tr>\n",
       "      <th>0</th>\n",
       "      <td>Baghban</td>\n",
       "      <td>GPE</td>\n",
       "    </tr>\n",
       "    <tr>\n",
       "      <th>1</th>\n",
       "      <td>Time</td>\n",
       "      <td>PERSON</td>\n",
       "    </tr>\n",
       "    <tr>\n",
       "      <th>2</th>\n",
       "      <td>Partner</td>\n",
       "      <td>GPE</td>\n",
       "    </tr>\n",
       "    <tr>\n",
       "      <th>3</th>\n",
       "      <td>SalimKhan</td>\n",
       "      <td>ORGANIZATION</td>\n",
       "    </tr>\n",
       "    <tr>\n",
       "      <th>4</th>\n",
       "      <td>NoEntry</td>\n",
       "      <td>ORGANIZATION</td>\n",
       "    </tr>\n",
       "    <tr>\n",
       "      <th>...</th>\n",
       "      <td>...</td>\n",
       "      <td>...</td>\n",
       "    </tr>\n",
       "    <tr>\n",
       "      <th>151</th>\n",
       "      <td>Indore</td>\n",
       "      <td>GPE</td>\n",
       "    </tr>\n",
       "    <tr>\n",
       "      <th>152</th>\n",
       "      <td>MountainView</td>\n",
       "      <td>GPE</td>\n",
       "    </tr>\n",
       "    <tr>\n",
       "      <th>153</th>\n",
       "      <td>FilmfareAwards</td>\n",
       "      <td>ORGANIZATION</td>\n",
       "    </tr>\n",
       "    <tr>\n",
       "      <th>154</th>\n",
       "      <td>South</td>\n",
       "      <td>GPE</td>\n",
       "    </tr>\n",
       "    <tr>\n",
       "      <th>155</th>\n",
       "      <td>AamirKhan</td>\n",
       "      <td>PERSON</td>\n",
       "    </tr>\n",
       "  </tbody>\n",
       "</table>\n",
       "<p>156 rows × 2 columns</p>\n",
       "</div>"
      ],
      "text/plain": [
       "           Entities        Labels\n",
       "0           Baghban           GPE\n",
       "1              Time        PERSON\n",
       "2           Partner           GPE\n",
       "3         SalimKhan  ORGANIZATION\n",
       "4           NoEntry  ORGANIZATION\n",
       "..              ...           ...\n",
       "151          Indore           GPE\n",
       "152    MountainView           GPE\n",
       "153  FilmfareAwards  ORGANIZATION\n",
       "154           South           GPE\n",
       "155       AamirKhan        PERSON\n",
       "\n",
       "[156 rows x 2 columns]"
      ]
     },
     "execution_count": 219,
     "metadata": {},
     "output_type": "execute_result"
    }
   ],
   "source": [
    "entities_df"
   ]
  },
  {
   "cell_type": "code",
   "execution_count": 223,
   "id": "3718f57f",
   "metadata": {},
   "outputs": [
    {
     "data": {
      "text/plain": [
       "Entities\n",
       "Khan                      2\n",
       "AtulAgnihotri             2\n",
       "Bollywood                 2\n",
       "Salim                     2\n",
       "Radhe                     2\n",
       "                         ..\n",
       "Dabangg                   1\n",
       "ChoriChoriChupkeChupke    1\n",
       "ChillarParty              1\n",
       "CentralProvinces          1\n",
       "ZeeStudios                1\n",
       "Name: Labels, Length: 144, dtype: int64"
      ]
     },
     "execution_count": 223,
     "metadata": {},
     "output_type": "execute_result"
    }
   ],
   "source": [
    "entities_df.groupby('Entities')['Labels'].count().sort_values(ascending = False)"
   ]
  },
  {
   "cell_type": "code",
   "execution_count": null,
   "id": "5789b21b",
   "metadata": {},
   "outputs": [],
   "source": [
    "entities_df"
   ]
  },
  {
   "cell_type": "code",
   "execution_count": 226,
   "id": "ab93cedc",
   "metadata": {},
   "outputs": [],
   "source": [
    "import pickle"
   ]
  },
  {
   "cell_type": "code",
   "execution_count": 227,
   "id": "19796709",
   "metadata": {},
   "outputs": [],
   "source": [
    "pickle_out=open(\"entities.pkl\",\"wb\")\n",
    "pickle.dump(entities_df, pickle_out)\n",
    "pickle_out.close()"
   ]
  },
  {
   "cell_type": "code",
   "execution_count": null,
   "id": "e2851fa1",
   "metadata": {},
   "outputs": [],
   "source": []
  }
 ],
 "metadata": {
  "kernelspec": {
   "display_name": "Python 3 (ipykernel)",
   "language": "python",
   "name": "python3"
  },
  "language_info": {
   "codemirror_mode": {
    "name": "ipython",
    "version": 3
   },
   "file_extension": ".py",
   "mimetype": "text/x-python",
   "name": "python",
   "nbconvert_exporter": "python",
   "pygments_lexer": "ipython3",
   "version": "3.9.7"
  }
 },
 "nbformat": 4,
 "nbformat_minor": 5
}
